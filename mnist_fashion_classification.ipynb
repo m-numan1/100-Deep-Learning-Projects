{
  "nbformat": 4,
  "nbformat_minor": 0,
  "metadata": {
    "colab": {
      "provenance": [],
      "authorship_tag": "ABX9TyMg4/4TjF05UOVV8LrMnimm",
      "include_colab_link": true
    },
    "kernelspec": {
      "name": "python3",
      "display_name": "Python 3"
    },
    "language_info": {
      "name": "python"
    }
  },
  "cells": [
    {
      "cell_type": "markdown",
      "metadata": {
        "id": "view-in-github",
        "colab_type": "text"
      },
      "source": [
        "<a href=\"https://colab.research.google.com/github/m-numan1/100-Deep-Learning-Projects/blob/main/mnist_fashion_classification.ipynb\" target=\"_parent\"><img src=\"https://colab.research.google.com/assets/colab-badge.svg\" alt=\"Open In Colab\"/></a>"
      ]
    },
    {
      "cell_type": "markdown",
      "source": [
        "## MNIST Fashion Classification Model\n",
        "**STEPS**\n",
        "* We will use torchvision Mnist fashion datset\n",
        "* import all the libraries\n",
        "* use batches created through dataloader\n",
        "* Create CNN Neaural Network Model\n",
        "* train the model\n",
        "* Evaluate the Model"
      ],
      "metadata": {
        "id": "MPYU8StvywQn"
      }
    },
    {
      "cell_type": "code",
      "execution_count": 1,
      "metadata": {
        "id": "8Tv4zCyMxsKp"
      },
      "outputs": [],
      "source": [
        "import torch\n",
        "import torch.nn as nn\n",
        "import torchvision\n",
        "from torch.utils.data import DataLoader\n",
        "import torch.optim as optim\n",
        "import torch.nn.functional as F"
      ]
    },
    {
      "cell_type": "code",
      "source": [
        "from torchvision.datasets import FashionMNIST"
      ],
      "metadata": {
        "id": "XbweE37HzfWB"
      },
      "execution_count": 2,
      "outputs": []
    },
    {
      "cell_type": "code",
      "source": [
        "transform = torchvision.transforms.Compose([\n",
        "    torchvision.transforms.Resize((28,28)),\n",
        "    torchvision.transforms.ToTensor()\n",
        "])\n",
        "train_data  = FashionMNIST(root='./data',train=True,download=True,transform=transform)\n",
        "test_data = FashionMNIST(root='./data',train=False,download=True,transform=transform)\n"
      ],
      "metadata": {
        "colab": {
          "base_uri": "https://localhost:8080/"
        },
        "id": "Sfd0BHI9zuPy",
        "outputId": "43c60f45-b62f-4fe5-c003-f227f64cb285"
      },
      "execution_count": 3,
      "outputs": [
        {
          "output_type": "stream",
          "name": "stderr",
          "text": [
            "100%|██████████| 26.4M/26.4M [00:01<00:00, 15.5MB/s]\n",
            "100%|██████████| 29.5k/29.5k [00:00<00:00, 231kB/s]\n",
            "100%|██████████| 4.42M/4.42M [00:01<00:00, 4.29MB/s]\n",
            "100%|██████████| 5.15k/5.15k [00:00<00:00, 13.7MB/s]\n"
          ]
        }
      ]
    },
    {
      "cell_type": "code",
      "source": [
        "import matplotlib.pyplot as plt"
      ],
      "metadata": {
        "id": "1Pq1zPkR0DJP"
      },
      "execution_count": 4,
      "outputs": []
    },
    {
      "cell_type": "code",
      "source": [
        "# Creating a neaural Network\n",
        "\n",
        "class CNNFashionMNIST(nn.Module):\n",
        "  def __init__(self):\n",
        "    super().__init__()\n",
        "    self.conv1 = nn.Conv2d(in_channels = 1 , out_channels = 32, kernel_size = 3 , padding = 1)\n",
        "    self.conv2 = nn.Conv2d(in_channels = 32 , out_channels = 64, kernel_size = 3 , padding = 1)\n",
        "    self.conv3 = nn.Conv2d(in_channels = 64 , out_channels = 128, kernel_size = 3 , padding = 1)\n",
        "    self.pool = nn.MaxPool2d(2,2)\n",
        "    self.fc1 = nn.Linear(in_features = 128*3*3, out_features = 128)\n",
        "    self.fc2 = nn.Linear(in_features = 128, out_features = 10)\n",
        "\n",
        "  def forward(self, x):\n",
        "\n",
        "    output = self.pool(F.relu(self.conv1(x)))\n",
        "    output =self.pool( F.relu(self.conv2(output)))\n",
        "    output = F.dropout(self.pool(F.relu(self.conv3(output))), p = 0.3)\n",
        "    output = output.view(output.size(0),-1)\n",
        "    output = F.relu(self.fc1(output))\n",
        "    output = self.fc2(output)\n",
        "    return output\n"
      ],
      "metadata": {
        "id": "1trwPnIb0H22"
      },
      "execution_count": 11,
      "outputs": []
    },
    {
      "cell_type": "code",
      "source": [
        "device = torch.device('cuda' if torch.cuda.is_available() else 'cpu')"
      ],
      "metadata": {
        "id": "iG2u6F5B--2-"
      },
      "execution_count": 12,
      "outputs": []
    },
    {
      "cell_type": "code",
      "source": [
        "train_loader = DataLoader(train_data, batch_size = 100)\n",
        "test_loader = DataLoader(test_data, batch_size = 100)"
      ],
      "metadata": {
        "id": "NuhtDTPi_2rF"
      },
      "execution_count": 13,
      "outputs": []
    },
    {
      "cell_type": "code",
      "source": [
        "# declaring optimizers, loss function, lr, epochs\n",
        "epochs = 6\n",
        "learning_rate = 0.001\n",
        "\n",
        "model = CNNFashionMNIST().to(device)\n",
        "optimizer = optim.Adam(model.parameters(), lr = learning_rate)\n",
        "loss_fn = nn.CrossEntropyLoss()"
      ],
      "metadata": {
        "id": "Gb4E7NYk-wLD"
      },
      "execution_count": 23,
      "outputs": []
    },
    {
      "cell_type": "code",
      "source": [
        "# Training loop\n",
        "\n",
        "for epoch in range(epochs):\n",
        "  total_loss = 0\n",
        "  for batch_image , batch_label in train_loader:\n",
        "    batch_image, batch_label = batch_image.to(device), batch_label.to(device)\n",
        "    optimizer.zero_grad()\n",
        "    output = model(batch_image)\n",
        "    loss = loss_fn(output, batch_label)\n",
        "\n",
        "    loss.backward()\n",
        "\n",
        "    optimizer.step()\n",
        "\n",
        "    total_loss += loss.item()\n",
        "\n",
        "  print(f\"Epoch: {epoch+1}, Loss: {total_loss/len(train_loader)}\")\n"
      ],
      "metadata": {
        "id": "nBA03Ni2_IYy"
      },
      "execution_count": null,
      "outputs": []
    },
    {
      "cell_type": "code",
      "source": [
        "model.eval()"
      ],
      "metadata": {
        "colab": {
          "base_uri": "https://localhost:8080/"
        },
        "id": "23P7pbl5AMM4",
        "outputId": "b78537e3-c895-49e5-df4c-742af50abfcd"
      },
      "execution_count": 18,
      "outputs": [
        {
          "output_type": "execute_result",
          "data": {
            "text/plain": [
              "CNNFashionMNIST(\n",
              "  (conv1): Conv2d(1, 32, kernel_size=(3, 3), stride=(1, 1), padding=(1, 1))\n",
              "  (conv2): Conv2d(32, 64, kernel_size=(3, 3), stride=(1, 1), padding=(1, 1))\n",
              "  (conv3): Conv2d(64, 128, kernel_size=(3, 3), stride=(1, 1), padding=(1, 1))\n",
              "  (pool): MaxPool2d(kernel_size=2, stride=2, padding=0, dilation=1, ceil_mode=False)\n",
              "  (fc1): Linear(in_features=1152, out_features=128, bias=True)\n",
              "  (fc2): Linear(in_features=128, out_features=10, bias=True)\n",
              ")"
            ]
          },
          "metadata": {},
          "execution_count": 18
        }
      ]
    },
    {
      "cell_type": "code",
      "source": [
        "# Evaluating loop\n",
        "\n",
        "accuracy = 0\n",
        "total = 0\n",
        "with torch.no_grad():\n",
        "  for batch_image, batch_label in test_loader:\n",
        "    batch_image, batch_label = batch_image.to(device), batch_label.to(device)\n",
        "    output = model(batch_image)\n",
        "    _, predicted = torch.max(output.data, 1)\n",
        "    total += batch_label.size(0)\n",
        "    accuracy += (predicted == batch_label).sum().item()\n",
        "\n",
        "print(f\"Accuracy: {accuracy/total}\")\n",
        "\n",
        "\n",
        "\n"
      ],
      "metadata": {
        "colab": {
          "base_uri": "https://localhost:8080/"
        },
        "id": "iYzTXV0yF9ze",
        "outputId": "446da8f3-7372-4827-c374-2e24715488e4"
      },
      "execution_count": 20,
      "outputs": [
        {
          "output_type": "stream",
          "name": "stdout",
          "text": [
            "Accuracy: 0.889\n"
          ]
        }
      ]
    },
    {
      "cell_type": "code",
      "source": [
        "# evaluating on training data\n",
        "\n",
        "total = 0\n",
        "accuracy = 0\n",
        "\n",
        "with torch.no_grad():\n",
        "  for batch_image, batch_label in train_loader:\n",
        "    batch_image, batch_label = batch_image.to(device), batch_label.to(device)\n",
        "    output = model(batch_image)\n",
        "    _, predicted = torch.max(output.data, 1)\n",
        "    total += batch_label.size(0)\n",
        "    accuracy += (predicted == batch_label).sum().item()\n",
        "\n",
        "print(f\"Accuracy: {accuracy/total}\")"
      ],
      "metadata": {
        "colab": {
          "base_uri": "https://localhost:8080/"
        },
        "id": "hpCgJEciGPVf",
        "outputId": "0e34c285-7738-43ac-b6bd-d6d44eec18ce"
      },
      "execution_count": 22,
      "outputs": [
        {
          "output_type": "stream",
          "name": "stdout",
          "text": [
            "Accuracy: 0.9009\n"
          ]
        }
      ]
    },
    {
      "cell_type": "code",
      "source": [],
      "metadata": {
        "id": "QgPAxwEQHkJx"
      },
      "execution_count": null,
      "outputs": []
    }
  ]
}