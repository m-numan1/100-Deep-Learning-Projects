{
  "cells": [
    {
      "cell_type": "markdown",
      "metadata": {
        "id": "view-in-github",
        "colab_type": "text"
      },
      "source": [
        "<a href=\"https://colab.research.google.com/github/m-numan1/100-Deep-Learning-Projects/blob/main/Sentiment_analysis_on_IMDB.ipynb\" target=\"_parent\"><img src=\"https://colab.research.google.com/assets/colab-badge.svg\" alt=\"Open In Colab\"/></a>"
      ]
    },
    {
      "cell_type": "markdown",
      "metadata": {
        "id": "GgxaoSlbwsAG"
      },
      "source": [
        "##Sentiment Analysis\n",
        "**Steps**\n",
        " * we will use IMDB dataset\n",
        " * preprocess dataset(tokenize,tolowercase,remove punctuation, build vocab,convert words to indices, padding to same length)\n",
        " * we will use pretrained  model,\n",
        " * we will add our linear part to model\n",
        " * training\n",
        " * evaluation"
      ]
    },
    {
      "cell_type": "code",
      "execution_count": 1,
      "metadata": {
        "id": "htT-oTCQnDzr"
      },
      "outputs": [],
      "source": [
        "import torch\n",
        "import torch.nn as nn\n",
        "import torchvision\n",
        "from torch.utils.data import DataLoader\n",
        "import torch.optim as optim\n",
        "import torch.nn.functional as F\n",
        "\n",
        "from torch.utils.data import TensorDataset\n",
        "from sklearn.model_selection import train_test_split\n",
        "from collections import Counter\n",
        "import pandas as pd"
      ]
    },
    {
      "cell_type": "code",
      "execution_count": 2,
      "metadata": {
        "id": "2xlxR_HB0aMg"
      },
      "outputs": [],
      "source": [
        "# importing libraries for word tokenizer and preprocessing\n",
        "import nltk\n",
        "from nltk.tokenize import word_tokenize\n",
        "import numpy as np\n",
        "import re\n"
      ]
    },
    {
      "cell_type": "code",
      "execution_count": 3,
      "metadata": {
        "colab": {
          "base_uri": "https://localhost:8080/"
        },
        "id": "ShRwK8l-TvAY",
        "outputId": "a17144a9-46c1-4bd4-a424-0a35a44ecc66"
      },
      "outputs": [
        {
          "output_type": "stream",
          "name": "stderr",
          "text": [
            "[nltk_data] Downloading package punkt to /root/nltk_data...\n",
            "[nltk_data]   Unzipping tokenizers/punkt.zip.\n",
            "[nltk_data] Downloading package stopwords to /root/nltk_data...\n",
            "[nltk_data]   Unzipping corpora/stopwords.zip.\n"
          ]
        },
        {
          "output_type": "execute_result",
          "data": {
            "text/plain": [
              "True"
            ]
          },
          "metadata": {},
          "execution_count": 3
        }
      ],
      "source": [
        "nltk.download('punkt')\n",
        "nltk.download('stopwords')"
      ]
    },
    {
      "cell_type": "code",
      "execution_count": 4,
      "metadata": {
        "id": "rdQOX9xdP3Lr"
      },
      "outputs": [],
      "source": [
        "# downloading dataset direclty from kaggle\n",
        "\n",
        "!mkdir -p ~/.kaggle\n",
        "!cp kaggle.json ~/.kaggle/\n",
        "!chmod 600 ~/.kaggle/kaggle.json"
      ]
    },
    {
      "cell_type": "code",
      "execution_count": 5,
      "metadata": {
        "colab": {
          "base_uri": "https://localhost:8080/"
        },
        "id": "N9a51jZBQVVm",
        "outputId": "b7039feb-6272-456d-d238-05aa129bb5a1"
      },
      "outputs": [
        {
          "output_type": "stream",
          "name": "stdout",
          "text": [
            "Dataset URL: https://www.kaggle.com/datasets/lakshmi25npathi/imdb-dataset-of-50k-movie-reviews\n",
            "License(s): other\n",
            "Downloading imdb-dataset-of-50k-movie-reviews.zip to /content\n",
            "  0% 0.00/25.7M [00:00<?, ?B/s]\n",
            "100% 25.7M/25.7M [00:00<00:00, 1.41GB/s]\n"
          ]
        }
      ],
      "source": [
        "#!/bin/bash\n",
        "!kaggle datasets download lakshmi25npathi/imdb-dataset-of-50k-movie-reviews"
      ]
    },
    {
      "cell_type": "code",
      "execution_count": 6,
      "metadata": {
        "colab": {
          "base_uri": "https://localhost:8080/"
        },
        "id": "kjdWmuu6OiKt",
        "outputId": "0c0cc1c6-3368-4b4d-abfd-fa0c301a20e1"
      },
      "outputs": [
        {
          "output_type": "stream",
          "name": "stdout",
          "text": [
            "Archive:  imdb-dataset-of-50k-movie-reviews.zip\n",
            "  inflating: IMDB Dataset.csv        \n"
          ]
        }
      ],
      "source": [
        "\n",
        "!unzip imdb-dataset-of-50k-movie-reviews.zip"
      ]
    },
    {
      "cell_type": "code",
      "execution_count": 7,
      "metadata": {
        "id": "8WHyxiX1Qnr9"
      },
      "outputs": [],
      "source": [
        "df = pd.read_csv('/content/IMDB Dataset.csv')"
      ]
    },
    {
      "cell_type": "code",
      "execution_count": 8,
      "metadata": {
        "colab": {
          "base_uri": "https://localhost:8080/",
          "height": 206
        },
        "id": "BNnD05dBQpoi",
        "outputId": "db3cb42c-6e56-47f1-b3d9-02b0bddfc6f0"
      },
      "outputs": [
        {
          "output_type": "execute_result",
          "data": {
            "text/plain": [
              "                                              review sentiment\n",
              "0  One of the other reviewers has mentioned that ...  positive\n",
              "1  A wonderful little production. <br /><br />The...  positive\n",
              "2  I thought this was a wonderful way to spend ti...  positive\n",
              "3  Basically there's a family where a little boy ...  negative\n",
              "4  Petter Mattei's \"Love in the Time of Money\" is...  positive"
            ],
            "text/html": [
              "\n",
              "  <div id=\"df-3b14f876-d4cb-4709-a345-141966e3d748\" class=\"colab-df-container\">\n",
              "    <div>\n",
              "<style scoped>\n",
              "    .dataframe tbody tr th:only-of-type {\n",
              "        vertical-align: middle;\n",
              "    }\n",
              "\n",
              "    .dataframe tbody tr th {\n",
              "        vertical-align: top;\n",
              "    }\n",
              "\n",
              "    .dataframe thead th {\n",
              "        text-align: right;\n",
              "    }\n",
              "</style>\n",
              "<table border=\"1\" class=\"dataframe\">\n",
              "  <thead>\n",
              "    <tr style=\"text-align: right;\">\n",
              "      <th></th>\n",
              "      <th>review</th>\n",
              "      <th>sentiment</th>\n",
              "    </tr>\n",
              "  </thead>\n",
              "  <tbody>\n",
              "    <tr>\n",
              "      <th>0</th>\n",
              "      <td>One of the other reviewers has mentioned that ...</td>\n",
              "      <td>positive</td>\n",
              "    </tr>\n",
              "    <tr>\n",
              "      <th>1</th>\n",
              "      <td>A wonderful little production. &lt;br /&gt;&lt;br /&gt;The...</td>\n",
              "      <td>positive</td>\n",
              "    </tr>\n",
              "    <tr>\n",
              "      <th>2</th>\n",
              "      <td>I thought this was a wonderful way to spend ti...</td>\n",
              "      <td>positive</td>\n",
              "    </tr>\n",
              "    <tr>\n",
              "      <th>3</th>\n",
              "      <td>Basically there's a family where a little boy ...</td>\n",
              "      <td>negative</td>\n",
              "    </tr>\n",
              "    <tr>\n",
              "      <th>4</th>\n",
              "      <td>Petter Mattei's \"Love in the Time of Money\" is...</td>\n",
              "      <td>positive</td>\n",
              "    </tr>\n",
              "  </tbody>\n",
              "</table>\n",
              "</div>\n",
              "    <div class=\"colab-df-buttons\">\n",
              "\n",
              "  <div class=\"colab-df-container\">\n",
              "    <button class=\"colab-df-convert\" onclick=\"convertToInteractive('df-3b14f876-d4cb-4709-a345-141966e3d748')\"\n",
              "            title=\"Convert this dataframe to an interactive table.\"\n",
              "            style=\"display:none;\">\n",
              "\n",
              "  <svg xmlns=\"http://www.w3.org/2000/svg\" height=\"24px\" viewBox=\"0 -960 960 960\">\n",
              "    <path d=\"M120-120v-720h720v720H120Zm60-500h600v-160H180v160Zm220 220h160v-160H400v160Zm0 220h160v-160H400v160ZM180-400h160v-160H180v160Zm440 0h160v-160H620v160ZM180-180h160v-160H180v160Zm440 0h160v-160H620v160Z\"/>\n",
              "  </svg>\n",
              "    </button>\n",
              "\n",
              "  <style>\n",
              "    .colab-df-container {\n",
              "      display:flex;\n",
              "      gap: 12px;\n",
              "    }\n",
              "\n",
              "    .colab-df-convert {\n",
              "      background-color: #E8F0FE;\n",
              "      border: none;\n",
              "      border-radius: 50%;\n",
              "      cursor: pointer;\n",
              "      display: none;\n",
              "      fill: #1967D2;\n",
              "      height: 32px;\n",
              "      padding: 0 0 0 0;\n",
              "      width: 32px;\n",
              "    }\n",
              "\n",
              "    .colab-df-convert:hover {\n",
              "      background-color: #E2EBFA;\n",
              "      box-shadow: 0px 1px 2px rgba(60, 64, 67, 0.3), 0px 1px 3px 1px rgba(60, 64, 67, 0.15);\n",
              "      fill: #174EA6;\n",
              "    }\n",
              "\n",
              "    .colab-df-buttons div {\n",
              "      margin-bottom: 4px;\n",
              "    }\n",
              "\n",
              "    [theme=dark] .colab-df-convert {\n",
              "      background-color: #3B4455;\n",
              "      fill: #D2E3FC;\n",
              "    }\n",
              "\n",
              "    [theme=dark] .colab-df-convert:hover {\n",
              "      background-color: #434B5C;\n",
              "      box-shadow: 0px 1px 3px 1px rgba(0, 0, 0, 0.15);\n",
              "      filter: drop-shadow(0px 1px 2px rgba(0, 0, 0, 0.3));\n",
              "      fill: #FFFFFF;\n",
              "    }\n",
              "  </style>\n",
              "\n",
              "    <script>\n",
              "      const buttonEl =\n",
              "        document.querySelector('#df-3b14f876-d4cb-4709-a345-141966e3d748 button.colab-df-convert');\n",
              "      buttonEl.style.display =\n",
              "        google.colab.kernel.accessAllowed ? 'block' : 'none';\n",
              "\n",
              "      async function convertToInteractive(key) {\n",
              "        const element = document.querySelector('#df-3b14f876-d4cb-4709-a345-141966e3d748');\n",
              "        const dataTable =\n",
              "          await google.colab.kernel.invokeFunction('convertToInteractive',\n",
              "                                                    [key], {});\n",
              "        if (!dataTable) return;\n",
              "\n",
              "        const docLinkHtml = 'Like what you see? Visit the ' +\n",
              "          '<a target=\"_blank\" href=https://colab.research.google.com/notebooks/data_table.ipynb>data table notebook</a>'\n",
              "          + ' to learn more about interactive tables.';\n",
              "        element.innerHTML = '';\n",
              "        dataTable['output_type'] = 'display_data';\n",
              "        await google.colab.output.renderOutput(dataTable, element);\n",
              "        const docLink = document.createElement('div');\n",
              "        docLink.innerHTML = docLinkHtml;\n",
              "        element.appendChild(docLink);\n",
              "      }\n",
              "    </script>\n",
              "  </div>\n",
              "\n",
              "\n",
              "    <div id=\"df-0b8a608b-9125-40df-8666-63a28a93905a\">\n",
              "      <button class=\"colab-df-quickchart\" onclick=\"quickchart('df-0b8a608b-9125-40df-8666-63a28a93905a')\"\n",
              "                title=\"Suggest charts\"\n",
              "                style=\"display:none;\">\n",
              "\n",
              "<svg xmlns=\"http://www.w3.org/2000/svg\" height=\"24px\"viewBox=\"0 0 24 24\"\n",
              "     width=\"24px\">\n",
              "    <g>\n",
              "        <path d=\"M19 3H5c-1.1 0-2 .9-2 2v14c0 1.1.9 2 2 2h14c1.1 0 2-.9 2-2V5c0-1.1-.9-2-2-2zM9 17H7v-7h2v7zm4 0h-2V7h2v10zm4 0h-2v-4h2v4z\"/>\n",
              "    </g>\n",
              "</svg>\n",
              "      </button>\n",
              "\n",
              "<style>\n",
              "  .colab-df-quickchart {\n",
              "      --bg-color: #E8F0FE;\n",
              "      --fill-color: #1967D2;\n",
              "      --hover-bg-color: #E2EBFA;\n",
              "      --hover-fill-color: #174EA6;\n",
              "      --disabled-fill-color: #AAA;\n",
              "      --disabled-bg-color: #DDD;\n",
              "  }\n",
              "\n",
              "  [theme=dark] .colab-df-quickchart {\n",
              "      --bg-color: #3B4455;\n",
              "      --fill-color: #D2E3FC;\n",
              "      --hover-bg-color: #434B5C;\n",
              "      --hover-fill-color: #FFFFFF;\n",
              "      --disabled-bg-color: #3B4455;\n",
              "      --disabled-fill-color: #666;\n",
              "  }\n",
              "\n",
              "  .colab-df-quickchart {\n",
              "    background-color: var(--bg-color);\n",
              "    border: none;\n",
              "    border-radius: 50%;\n",
              "    cursor: pointer;\n",
              "    display: none;\n",
              "    fill: var(--fill-color);\n",
              "    height: 32px;\n",
              "    padding: 0;\n",
              "    width: 32px;\n",
              "  }\n",
              "\n",
              "  .colab-df-quickchart:hover {\n",
              "    background-color: var(--hover-bg-color);\n",
              "    box-shadow: 0 1px 2px rgba(60, 64, 67, 0.3), 0 1px 3px 1px rgba(60, 64, 67, 0.15);\n",
              "    fill: var(--button-hover-fill-color);\n",
              "  }\n",
              "\n",
              "  .colab-df-quickchart-complete:disabled,\n",
              "  .colab-df-quickchart-complete:disabled:hover {\n",
              "    background-color: var(--disabled-bg-color);\n",
              "    fill: var(--disabled-fill-color);\n",
              "    box-shadow: none;\n",
              "  }\n",
              "\n",
              "  .colab-df-spinner {\n",
              "    border: 2px solid var(--fill-color);\n",
              "    border-color: transparent;\n",
              "    border-bottom-color: var(--fill-color);\n",
              "    animation:\n",
              "      spin 1s steps(1) infinite;\n",
              "  }\n",
              "\n",
              "  @keyframes spin {\n",
              "    0% {\n",
              "      border-color: transparent;\n",
              "      border-bottom-color: var(--fill-color);\n",
              "      border-left-color: var(--fill-color);\n",
              "    }\n",
              "    20% {\n",
              "      border-color: transparent;\n",
              "      border-left-color: var(--fill-color);\n",
              "      border-top-color: var(--fill-color);\n",
              "    }\n",
              "    30% {\n",
              "      border-color: transparent;\n",
              "      border-left-color: var(--fill-color);\n",
              "      border-top-color: var(--fill-color);\n",
              "      border-right-color: var(--fill-color);\n",
              "    }\n",
              "    40% {\n",
              "      border-color: transparent;\n",
              "      border-right-color: var(--fill-color);\n",
              "      border-top-color: var(--fill-color);\n",
              "    }\n",
              "    60% {\n",
              "      border-color: transparent;\n",
              "      border-right-color: var(--fill-color);\n",
              "    }\n",
              "    80% {\n",
              "      border-color: transparent;\n",
              "      border-right-color: var(--fill-color);\n",
              "      border-bottom-color: var(--fill-color);\n",
              "    }\n",
              "    90% {\n",
              "      border-color: transparent;\n",
              "      border-bottom-color: var(--fill-color);\n",
              "    }\n",
              "  }\n",
              "</style>\n",
              "\n",
              "      <script>\n",
              "        async function quickchart(key) {\n",
              "          const quickchartButtonEl =\n",
              "            document.querySelector('#' + key + ' button');\n",
              "          quickchartButtonEl.disabled = true;  // To prevent multiple clicks.\n",
              "          quickchartButtonEl.classList.add('colab-df-spinner');\n",
              "          try {\n",
              "            const charts = await google.colab.kernel.invokeFunction(\n",
              "                'suggestCharts', [key], {});\n",
              "          } catch (error) {\n",
              "            console.error('Error during call to suggestCharts:', error);\n",
              "          }\n",
              "          quickchartButtonEl.classList.remove('colab-df-spinner');\n",
              "          quickchartButtonEl.classList.add('colab-df-quickchart-complete');\n",
              "        }\n",
              "        (() => {\n",
              "          let quickchartButtonEl =\n",
              "            document.querySelector('#df-0b8a608b-9125-40df-8666-63a28a93905a button');\n",
              "          quickchartButtonEl.style.display =\n",
              "            google.colab.kernel.accessAllowed ? 'block' : 'none';\n",
              "        })();\n",
              "      </script>\n",
              "    </div>\n",
              "\n",
              "    </div>\n",
              "  </div>\n"
            ],
            "application/vnd.google.colaboratory.intrinsic+json": {
              "type": "dataframe",
              "variable_name": "df",
              "summary": "{\n  \"name\": \"df\",\n  \"rows\": 50000,\n  \"fields\": [\n    {\n      \"column\": \"review\",\n      \"properties\": {\n        \"dtype\": \"string\",\n        \"num_unique_values\": 49582,\n        \"samples\": [\n          \"\\\"Soul Plane\\\" is a horrible attempt at comedy that only should appeal people with thick skulls, bloodshot eyes and furry pawns. <br /><br />The plot is not only incoherent but also non-existent, acting is mostly sub sub-par with a gang of highly moronic and dreadful characters thrown in for bad measure, jokes are often spotted miles ahead and almost never even a bit amusing. This movie lacks any structure and is full of racial stereotypes that must have seemed old even in the fifties, the only thing it really has going for it is some pretty ladies, but really, if you want that you can rent something from the \\\"Adult\\\" section. OK?<br /><br />I can hardly see anything here to recommend since you'll probably have a lot a better and productive time chasing rats with a sledgehammer or inventing waterproof teabags or whatever.<br /><br />2/10\",\n          \"Guest from the Future tells a fascinating story of time travel, friendship, battle of good and evil -- all with a small budget, child actors, and few special effects. Something for Spielberg and Lucas to learn from. ;) A sixth-grader Kolya \\\"Nick\\\" Gerasimov finds a time machine in the basement of a decrepit building and travels 100 years into the future. He discovers a near-perfect, utopian society where robots play guitars and write poetry, everyone is kind to each other and people enjoy everything technology has to offer. Alice is the daughter of a prominent scientist who invented a device called Mielophone that allows to read minds of humans and animals. The device can be put to both good and bad use, depending on whose hands it falls into. When two evil space pirates from Saturn who want to rule the universe attempt to steal Mielophone, it falls into the hands of 20th century school boy Nick. With the pirates hot on his tracks, he travels back to his time, followed by the pirates, and Alice. Chaos, confusion and funny situations follow as the luckless pirates try to blend in with the earthlings. Alice enrolls in the same school Nick goes to and demonstrates superhuman abilities in PE class. The catch is, Alice doesn't know what Nick looks like, while the pirates do. Also, the pirates are able to change their appearance and turn literally into anyone. (Hmm, I wonder if this is where James Cameron got the idea for Terminator...) Who gets to Nick -- and Mielophone -- first? Excellent plot, non-stop adventures, and great soundtrack. I wish Hollywood made kid movies like this one...\",\n          \"\\\"National Treasure\\\" (2004) is a thoroughly misguided hodge-podge of plot entanglements that borrow from nearly every cloak and dagger government conspiracy clich\\u00e9 that has ever been written. The film stars Nicholas Cage as Benjamin Franklin Gates (how precious is that, I ask you?); a seemingly normal fellow who, for no other reason than being of a lineage of like-minded misguided fortune hunters, decides to steal a 'national treasure' that has been hidden by the United States founding fathers. After a bit of subtext and background that plays laughably (unintentionally) like Indiana Jones meets The Patriot, the film degenerates into one misguided whimsy after another \\u0096 attempting to create a 'Stanley Goodspeed' regurgitation of Nicholas Cage and launch the whole convoluted mess forward with a series of high octane, but disconnected misadventures.<br /><br />The relevancy and logic to having George Washington and his motley crew of patriots burying a king's ransom someplace on native soil, and then, going through the meticulous plan of leaving clues scattered throughout U.S. currency art work, is something that director Jon Turteltaub never quite gets around to explaining. Couldn't Washington found better usage for such wealth during the start up of the country? Hence, we are left with a mystery built on top of an enigma that is already on shaky ground by the time Ben appoints himself the new custodian of this untold wealth. Ben's intentions are noble \\u0096 if confusing. He's set on protecting the treasure. For who and when?\\u0085your guess is as good as mine.<br /><br />But there are a few problems with Ben's crusade. First up, his friend, Ian Holmes (Sean Bean) decides that he can't wait for Ben to make up his mind about stealing the Declaration of Independence from the National Archives (oh, yeah \\u0096 brilliant idea!). Presumably, the back of that famous document holds the secret answer to the ultimate fortune. So Ian tries to kill Ben. The assassination attempt is, of course, unsuccessful, if overly melodramatic. It also affords Ben the opportunity to pick up, and pick on, the very sultry curator of the archives, Abigail Chase (Diane Kruger). She thinks Ben is clearly a nut \\u0096 at least at the beginning. But true to action/romance form, Abby's resolve melts quicker than you can say, \\\"is that the Hope Diamond?\\\" The film moves into full X-File-ish mode, as the FBI, mistakenly believing that Ben is behind the theft, retaliate in various benign ways that lead to a multi-layering of action sequences reminiscent of Mission Impossible meets The Fugitive. Honestly, don't those guys ever get 'intelligence' information that is correct? In the final analysis, \\\"National Treasure\\\" isn't great film making, so much as it's a patchwork rehash of tired old bits from other movies, woven together from scraps, the likes of which would make IL' Betsy Ross blush.<br /><br />The Buena Vista DVD delivers a far more generous treatment than this film is deserving of. The anamorphic widescreen picture exhibits a very smooth and finely detailed image with very rich colors, natural flesh tones, solid blacks and clean whites. The stylized image is also free of blemishes and digital enhancements. The audio is 5.1 and delivers a nice sonic boom to your side and rear speakers with intensity and realism. Extras include a host of promotional junket material that is rather deep and over the top in its explanation of how and why this film was made. If only, as an audience, we had had more clarification as to why Ben and co. were chasing after an illusive treasure, this might have been one good flick. Extras conclude with the theatrical trailer, audio commentary and deleted scenes. Not for the faint-hearted \\u0096 just the thick-headed.\"\n        ],\n        \"semantic_type\": \"\",\n        \"description\": \"\"\n      }\n    },\n    {\n      \"column\": \"sentiment\",\n      \"properties\": {\n        \"dtype\": \"category\",\n        \"num_unique_values\": 2,\n        \"samples\": [\n          \"negative\",\n          \"positive\"\n        ],\n        \"semantic_type\": \"\",\n        \"description\": \"\"\n      }\n    }\n  ]\n}"
            }
          },
          "metadata": {},
          "execution_count": 8
        }
      ],
      "source": [
        "df.head()"
      ]
    },
    {
      "cell_type": "code",
      "execution_count": 9,
      "metadata": {
        "colab": {
          "base_uri": "https://localhost:8080/"
        },
        "id": "9S3gSq67QrbZ",
        "outputId": "392a0c1c-d407-4049-9a6a-fd593ebaacfa"
      },
      "outputs": [
        {
          "output_type": "stream",
          "name": "stderr",
          "text": [
            "/tmp/ipython-input-9-1948547579.py:1: FutureWarning: Downcasting behavior in `replace` is deprecated and will be removed in a future version. To retain the old behavior, explicitly call `result.infer_objects(copy=False)`. To opt-in to the future behavior, set `pd.set_option('future.no_silent_downcasting', True)`\n",
            "  df.sentiment = df.sentiment.replace({'positive':1,'negative':0})\n"
          ]
        }
      ],
      "source": [
        "df.sentiment = df.sentiment.replace({'positive':1,'negative':0})"
      ]
    },
    {
      "cell_type": "code",
      "execution_count": 10,
      "metadata": {
        "id": "rBQPDCEOQ3qu"
      },
      "outputs": [],
      "source": [
        "x = df.review\n",
        "y = df.sentiment"
      ]
    },
    {
      "cell_type": "code",
      "execution_count": 11,
      "metadata": {
        "id": "5wVERqBfUBq8"
      },
      "outputs": [],
      "source": [
        "# making document of df column sentences\n",
        "sentences = []\n",
        "for sentence in x:\n",
        "  sentences.append(sentence)"
      ]
    },
    {
      "cell_type": "code",
      "source": [
        "nltk.download('punkt_tab')"
      ],
      "metadata": {
        "colab": {
          "base_uri": "https://localhost:8080/"
        },
        "id": "GxIigarvjvp6",
        "outputId": "273f79c7-7989-49c9-bdf3-e8fe60314d4c"
      },
      "execution_count": 13,
      "outputs": [
        {
          "output_type": "stream",
          "name": "stderr",
          "text": [
            "[nltk_data] Downloading package punkt_tab to /root/nltk_data...\n",
            "[nltk_data]   Unzipping tokenizers/punkt_tab.zip.\n"
          ]
        },
        {
          "output_type": "execute_result",
          "data": {
            "text/plain": [
              "True"
            ]
          },
          "metadata": {},
          "execution_count": 13
        }
      ]
    },
    {
      "cell_type": "markdown",
      "source": [
        "**STEPS**\n",
        "\n",
        "* tokenize(making of single words)\n",
        "* create vocabulary of those words\n",
        "* now make embeddings"
      ],
      "metadata": {
        "id": "m_GZIFpWj_-L"
      }
    },
    {
      "cell_type": "code",
      "source": [
        "tokens = [word_tokenize(sentence) for sentence in sentences]"
      ],
      "metadata": {
        "id": "noef8m9Ujjcw"
      },
      "execution_count": 14,
      "outputs": []
    },
    {
      "cell_type": "code",
      "source": [
        "tokens[:1]"
      ],
      "metadata": {
        "colab": {
          "base_uri": "https://localhost:8080/"
        },
        "id": "GPXL6DNlkbYd",
        "outputId": "418af5fe-a1ae-4ac8-efbb-8b834bbfd58f"
      },
      "execution_count": 15,
      "outputs": [
        {
          "output_type": "execute_result",
          "data": {
            "text/plain": [
              "[['One',\n",
              "  'of',\n",
              "  'the',\n",
              "  'other',\n",
              "  'reviewers',\n",
              "  'has',\n",
              "  'mentioned',\n",
              "  'that',\n",
              "  'after',\n",
              "  'watching',\n",
              "  'just',\n",
              "  '1',\n",
              "  'Oz',\n",
              "  'episode',\n",
              "  'you',\n",
              "  \"'ll\",\n",
              "  'be',\n",
              "  'hooked',\n",
              "  '.',\n",
              "  'They',\n",
              "  'are',\n",
              "  'right',\n",
              "  ',',\n",
              "  'as',\n",
              "  'this',\n",
              "  'is',\n",
              "  'exactly',\n",
              "  'what',\n",
              "  'happened',\n",
              "  'with',\n",
              "  'me.',\n",
              "  '<',\n",
              "  'br',\n",
              "  '/',\n",
              "  '>',\n",
              "  '<',\n",
              "  'br',\n",
              "  '/',\n",
              "  '>',\n",
              "  'The',\n",
              "  'first',\n",
              "  'thing',\n",
              "  'that',\n",
              "  'struck',\n",
              "  'me',\n",
              "  'about',\n",
              "  'Oz',\n",
              "  'was',\n",
              "  'its',\n",
              "  'brutality',\n",
              "  'and',\n",
              "  'unflinching',\n",
              "  'scenes',\n",
              "  'of',\n",
              "  'violence',\n",
              "  ',',\n",
              "  'which',\n",
              "  'set',\n",
              "  'in',\n",
              "  'right',\n",
              "  'from',\n",
              "  'the',\n",
              "  'word',\n",
              "  'GO',\n",
              "  '.',\n",
              "  'Trust',\n",
              "  'me',\n",
              "  ',',\n",
              "  'this',\n",
              "  'is',\n",
              "  'not',\n",
              "  'a',\n",
              "  'show',\n",
              "  'for',\n",
              "  'the',\n",
              "  'faint',\n",
              "  'hearted',\n",
              "  'or',\n",
              "  'timid',\n",
              "  '.',\n",
              "  'This',\n",
              "  'show',\n",
              "  'pulls',\n",
              "  'no',\n",
              "  'punches',\n",
              "  'with',\n",
              "  'regards',\n",
              "  'to',\n",
              "  'drugs',\n",
              "  ',',\n",
              "  'sex',\n",
              "  'or',\n",
              "  'violence',\n",
              "  '.',\n",
              "  'Its',\n",
              "  'is',\n",
              "  'hardcore',\n",
              "  ',',\n",
              "  'in',\n",
              "  'the',\n",
              "  'classic',\n",
              "  'use',\n",
              "  'of',\n",
              "  'the',\n",
              "  'word.',\n",
              "  '<',\n",
              "  'br',\n",
              "  '/',\n",
              "  '>',\n",
              "  '<',\n",
              "  'br',\n",
              "  '/',\n",
              "  '>',\n",
              "  'It',\n",
              "  'is',\n",
              "  'called',\n",
              "  'OZ',\n",
              "  'as',\n",
              "  'that',\n",
              "  'is',\n",
              "  'the',\n",
              "  'nickname',\n",
              "  'given',\n",
              "  'to',\n",
              "  'the',\n",
              "  'Oswald',\n",
              "  'Maximum',\n",
              "  'Security',\n",
              "  'State',\n",
              "  'Penitentary',\n",
              "  '.',\n",
              "  'It',\n",
              "  'focuses',\n",
              "  'mainly',\n",
              "  'on',\n",
              "  'Emerald',\n",
              "  'City',\n",
              "  ',',\n",
              "  'an',\n",
              "  'experimental',\n",
              "  'section',\n",
              "  'of',\n",
              "  'the',\n",
              "  'prison',\n",
              "  'where',\n",
              "  'all',\n",
              "  'the',\n",
              "  'cells',\n",
              "  'have',\n",
              "  'glass',\n",
              "  'fronts',\n",
              "  'and',\n",
              "  'face',\n",
              "  'inwards',\n",
              "  ',',\n",
              "  'so',\n",
              "  'privacy',\n",
              "  'is',\n",
              "  'not',\n",
              "  'high',\n",
              "  'on',\n",
              "  'the',\n",
              "  'agenda',\n",
              "  '.',\n",
              "  'Em',\n",
              "  'City',\n",
              "  'is',\n",
              "  'home',\n",
              "  'to',\n",
              "  'many',\n",
              "  '..',\n",
              "  'Aryans',\n",
              "  ',',\n",
              "  'Muslims',\n",
              "  ',',\n",
              "  'gangstas',\n",
              "  ',',\n",
              "  'Latinos',\n",
              "  ',',\n",
              "  'Christians',\n",
              "  ',',\n",
              "  'Italians',\n",
              "  ',',\n",
              "  'Irish',\n",
              "  'and',\n",
              "  'more',\n",
              "  '....',\n",
              "  'so',\n",
              "  'scuffles',\n",
              "  ',',\n",
              "  'death',\n",
              "  'stares',\n",
              "  ',',\n",
              "  'dodgy',\n",
              "  'dealings',\n",
              "  'and',\n",
              "  'shady',\n",
              "  'agreements',\n",
              "  'are',\n",
              "  'never',\n",
              "  'far',\n",
              "  'away.',\n",
              "  '<',\n",
              "  'br',\n",
              "  '/',\n",
              "  '>',\n",
              "  '<',\n",
              "  'br',\n",
              "  '/',\n",
              "  '>',\n",
              "  'I',\n",
              "  'would',\n",
              "  'say',\n",
              "  'the',\n",
              "  'main',\n",
              "  'appeal',\n",
              "  'of',\n",
              "  'the',\n",
              "  'show',\n",
              "  'is',\n",
              "  'due',\n",
              "  'to',\n",
              "  'the',\n",
              "  'fact',\n",
              "  'that',\n",
              "  'it',\n",
              "  'goes',\n",
              "  'where',\n",
              "  'other',\n",
              "  'shows',\n",
              "  'would',\n",
              "  \"n't\",\n",
              "  'dare',\n",
              "  '.',\n",
              "  'Forget',\n",
              "  'pretty',\n",
              "  'pictures',\n",
              "  'painted',\n",
              "  'for',\n",
              "  'mainstream',\n",
              "  'audiences',\n",
              "  ',',\n",
              "  'forget',\n",
              "  'charm',\n",
              "  ',',\n",
              "  'forget',\n",
              "  'romance',\n",
              "  '...',\n",
              "  'OZ',\n",
              "  'does',\n",
              "  \"n't\",\n",
              "  'mess',\n",
              "  'around',\n",
              "  '.',\n",
              "  'The',\n",
              "  'first',\n",
              "  'episode',\n",
              "  'I',\n",
              "  'ever',\n",
              "  'saw',\n",
              "  'struck',\n",
              "  'me',\n",
              "  'as',\n",
              "  'so',\n",
              "  'nasty',\n",
              "  'it',\n",
              "  'was',\n",
              "  'surreal',\n",
              "  ',',\n",
              "  'I',\n",
              "  'could',\n",
              "  \"n't\",\n",
              "  'say',\n",
              "  'I',\n",
              "  'was',\n",
              "  'ready',\n",
              "  'for',\n",
              "  'it',\n",
              "  ',',\n",
              "  'but',\n",
              "  'as',\n",
              "  'I',\n",
              "  'watched',\n",
              "  'more',\n",
              "  ',',\n",
              "  'I',\n",
              "  'developed',\n",
              "  'a',\n",
              "  'taste',\n",
              "  'for',\n",
              "  'Oz',\n",
              "  ',',\n",
              "  'and',\n",
              "  'got',\n",
              "  'accustomed',\n",
              "  'to',\n",
              "  'the',\n",
              "  'high',\n",
              "  'levels',\n",
              "  'of',\n",
              "  'graphic',\n",
              "  'violence',\n",
              "  '.',\n",
              "  'Not',\n",
              "  'just',\n",
              "  'violence',\n",
              "  ',',\n",
              "  'but',\n",
              "  'injustice',\n",
              "  '(',\n",
              "  'crooked',\n",
              "  'guards',\n",
              "  'who',\n",
              "  \"'ll\",\n",
              "  'be',\n",
              "  'sold',\n",
              "  'out',\n",
              "  'for',\n",
              "  'a',\n",
              "  'nickel',\n",
              "  ',',\n",
              "  'inmates',\n",
              "  'who',\n",
              "  \"'ll\",\n",
              "  'kill',\n",
              "  'on',\n",
              "  'order',\n",
              "  'and',\n",
              "  'get',\n",
              "  'away',\n",
              "  'with',\n",
              "  'it',\n",
              "  ',',\n",
              "  'well',\n",
              "  'mannered',\n",
              "  ',',\n",
              "  'middle',\n",
              "  'class',\n",
              "  'inmates',\n",
              "  'being',\n",
              "  'turned',\n",
              "  'into',\n",
              "  'prison',\n",
              "  'bitches',\n",
              "  'due',\n",
              "  'to',\n",
              "  'their',\n",
              "  'lack',\n",
              "  'of',\n",
              "  'street',\n",
              "  'skills',\n",
              "  'or',\n",
              "  'prison',\n",
              "  'experience',\n",
              "  ')',\n",
              "  'Watching',\n",
              "  'Oz',\n",
              "  ',',\n",
              "  'you',\n",
              "  'may',\n",
              "  'become',\n",
              "  'comfortable',\n",
              "  'with',\n",
              "  'what',\n",
              "  'is',\n",
              "  'uncomfortable',\n",
              "  'viewing',\n",
              "  '....',\n",
              "  'thats',\n",
              "  'if',\n",
              "  'you',\n",
              "  'can',\n",
              "  'get',\n",
              "  'in',\n",
              "  'touch',\n",
              "  'with',\n",
              "  'your',\n",
              "  'darker',\n",
              "  'side',\n",
              "  '.']]"
            ]
          },
          "metadata": {},
          "execution_count": 15
        }
      ]
    },
    {
      "cell_type": "code",
      "source": [
        "def clean_tokens(tokenized_sentences):\n",
        "    cleaned = []\n",
        "    for sentence in tokenized_sentences:\n",
        "        cleaned_sentence = [\n",
        "            token.lower()\n",
        "            for token in sentence\n",
        "            if token.isalpha()  # keeps only alphabetic words (no punctuation/numbers)\n",
        "        ]\n",
        "        cleaned.append(cleaned_sentence)\n",
        "    return cleaned\n",
        "\n",
        "tokens = clean_tokens(tokens)  # overwrite the original with cleaned version\n"
      ],
      "metadata": {
        "id": "Aj0o6isL43Jl"
      },
      "execution_count": 16,
      "outputs": []
    },
    {
      "cell_type": "code",
      "source": [
        "tokens[:1]"
      ],
      "metadata": {
        "colab": {
          "base_uri": "https://localhost:8080/"
        },
        "id": "ZMdgmZzIifXx",
        "outputId": "e05e7b10-dd41-46be-a828-3f3b00638b45"
      },
      "execution_count": 17,
      "outputs": [
        {
          "output_type": "execute_result",
          "data": {
            "text/plain": [
              "[['one',\n",
              "  'of',\n",
              "  'the',\n",
              "  'other',\n",
              "  'reviewers',\n",
              "  'has',\n",
              "  'mentioned',\n",
              "  'that',\n",
              "  'after',\n",
              "  'watching',\n",
              "  'just',\n",
              "  'oz',\n",
              "  'episode',\n",
              "  'you',\n",
              "  'be',\n",
              "  'hooked',\n",
              "  'they',\n",
              "  'are',\n",
              "  'right',\n",
              "  'as',\n",
              "  'this',\n",
              "  'is',\n",
              "  'exactly',\n",
              "  'what',\n",
              "  'happened',\n",
              "  'with',\n",
              "  'br',\n",
              "  'br',\n",
              "  'the',\n",
              "  'first',\n",
              "  'thing',\n",
              "  'that',\n",
              "  'struck',\n",
              "  'me',\n",
              "  'about',\n",
              "  'oz',\n",
              "  'was',\n",
              "  'its',\n",
              "  'brutality',\n",
              "  'and',\n",
              "  'unflinching',\n",
              "  'scenes',\n",
              "  'of',\n",
              "  'violence',\n",
              "  'which',\n",
              "  'set',\n",
              "  'in',\n",
              "  'right',\n",
              "  'from',\n",
              "  'the',\n",
              "  'word',\n",
              "  'go',\n",
              "  'trust',\n",
              "  'me',\n",
              "  'this',\n",
              "  'is',\n",
              "  'not',\n",
              "  'a',\n",
              "  'show',\n",
              "  'for',\n",
              "  'the',\n",
              "  'faint',\n",
              "  'hearted',\n",
              "  'or',\n",
              "  'timid',\n",
              "  'this',\n",
              "  'show',\n",
              "  'pulls',\n",
              "  'no',\n",
              "  'punches',\n",
              "  'with',\n",
              "  'regards',\n",
              "  'to',\n",
              "  'drugs',\n",
              "  'sex',\n",
              "  'or',\n",
              "  'violence',\n",
              "  'its',\n",
              "  'is',\n",
              "  'hardcore',\n",
              "  'in',\n",
              "  'the',\n",
              "  'classic',\n",
              "  'use',\n",
              "  'of',\n",
              "  'the',\n",
              "  'br',\n",
              "  'br',\n",
              "  'it',\n",
              "  'is',\n",
              "  'called',\n",
              "  'oz',\n",
              "  'as',\n",
              "  'that',\n",
              "  'is',\n",
              "  'the',\n",
              "  'nickname',\n",
              "  'given',\n",
              "  'to',\n",
              "  'the',\n",
              "  'oswald',\n",
              "  'maximum',\n",
              "  'security',\n",
              "  'state',\n",
              "  'penitentary',\n",
              "  'it',\n",
              "  'focuses',\n",
              "  'mainly',\n",
              "  'on',\n",
              "  'emerald',\n",
              "  'city',\n",
              "  'an',\n",
              "  'experimental',\n",
              "  'section',\n",
              "  'of',\n",
              "  'the',\n",
              "  'prison',\n",
              "  'where',\n",
              "  'all',\n",
              "  'the',\n",
              "  'cells',\n",
              "  'have',\n",
              "  'glass',\n",
              "  'fronts',\n",
              "  'and',\n",
              "  'face',\n",
              "  'inwards',\n",
              "  'so',\n",
              "  'privacy',\n",
              "  'is',\n",
              "  'not',\n",
              "  'high',\n",
              "  'on',\n",
              "  'the',\n",
              "  'agenda',\n",
              "  'em',\n",
              "  'city',\n",
              "  'is',\n",
              "  'home',\n",
              "  'to',\n",
              "  'many',\n",
              "  'aryans',\n",
              "  'muslims',\n",
              "  'gangstas',\n",
              "  'latinos',\n",
              "  'christians',\n",
              "  'italians',\n",
              "  'irish',\n",
              "  'and',\n",
              "  'more',\n",
              "  'so',\n",
              "  'scuffles',\n",
              "  'death',\n",
              "  'stares',\n",
              "  'dodgy',\n",
              "  'dealings',\n",
              "  'and',\n",
              "  'shady',\n",
              "  'agreements',\n",
              "  'are',\n",
              "  'never',\n",
              "  'far',\n",
              "  'br',\n",
              "  'br',\n",
              "  'i',\n",
              "  'would',\n",
              "  'say',\n",
              "  'the',\n",
              "  'main',\n",
              "  'appeal',\n",
              "  'of',\n",
              "  'the',\n",
              "  'show',\n",
              "  'is',\n",
              "  'due',\n",
              "  'to',\n",
              "  'the',\n",
              "  'fact',\n",
              "  'that',\n",
              "  'it',\n",
              "  'goes',\n",
              "  'where',\n",
              "  'other',\n",
              "  'shows',\n",
              "  'would',\n",
              "  'dare',\n",
              "  'forget',\n",
              "  'pretty',\n",
              "  'pictures',\n",
              "  'painted',\n",
              "  'for',\n",
              "  'mainstream',\n",
              "  'audiences',\n",
              "  'forget',\n",
              "  'charm',\n",
              "  'forget',\n",
              "  'romance',\n",
              "  'oz',\n",
              "  'does',\n",
              "  'mess',\n",
              "  'around',\n",
              "  'the',\n",
              "  'first',\n",
              "  'episode',\n",
              "  'i',\n",
              "  'ever',\n",
              "  'saw',\n",
              "  'struck',\n",
              "  'me',\n",
              "  'as',\n",
              "  'so',\n",
              "  'nasty',\n",
              "  'it',\n",
              "  'was',\n",
              "  'surreal',\n",
              "  'i',\n",
              "  'could',\n",
              "  'say',\n",
              "  'i',\n",
              "  'was',\n",
              "  'ready',\n",
              "  'for',\n",
              "  'it',\n",
              "  'but',\n",
              "  'as',\n",
              "  'i',\n",
              "  'watched',\n",
              "  'more',\n",
              "  'i',\n",
              "  'developed',\n",
              "  'a',\n",
              "  'taste',\n",
              "  'for',\n",
              "  'oz',\n",
              "  'and',\n",
              "  'got',\n",
              "  'accustomed',\n",
              "  'to',\n",
              "  'the',\n",
              "  'high',\n",
              "  'levels',\n",
              "  'of',\n",
              "  'graphic',\n",
              "  'violence',\n",
              "  'not',\n",
              "  'just',\n",
              "  'violence',\n",
              "  'but',\n",
              "  'injustice',\n",
              "  'crooked',\n",
              "  'guards',\n",
              "  'who',\n",
              "  'be',\n",
              "  'sold',\n",
              "  'out',\n",
              "  'for',\n",
              "  'a',\n",
              "  'nickel',\n",
              "  'inmates',\n",
              "  'who',\n",
              "  'kill',\n",
              "  'on',\n",
              "  'order',\n",
              "  'and',\n",
              "  'get',\n",
              "  'away',\n",
              "  'with',\n",
              "  'it',\n",
              "  'well',\n",
              "  'mannered',\n",
              "  'middle',\n",
              "  'class',\n",
              "  'inmates',\n",
              "  'being',\n",
              "  'turned',\n",
              "  'into',\n",
              "  'prison',\n",
              "  'bitches',\n",
              "  'due',\n",
              "  'to',\n",
              "  'their',\n",
              "  'lack',\n",
              "  'of',\n",
              "  'street',\n",
              "  'skills',\n",
              "  'or',\n",
              "  'prison',\n",
              "  'experience',\n",
              "  'watching',\n",
              "  'oz',\n",
              "  'you',\n",
              "  'may',\n",
              "  'become',\n",
              "  'comfortable',\n",
              "  'with',\n",
              "  'what',\n",
              "  'is',\n",
              "  'uncomfortable',\n",
              "  'viewing',\n",
              "  'thats',\n",
              "  'if',\n",
              "  'you',\n",
              "  'can',\n",
              "  'get',\n",
              "  'in',\n",
              "  'touch',\n",
              "  'with',\n",
              "  'your',\n",
              "  'darker',\n",
              "  'side']]"
            ]
          },
          "metadata": {},
          "execution_count": 17
        }
      ]
    },
    {
      "cell_type": "code",
      "source": [
        "# i have a list of tokens lists\n",
        "# Flatten the list\n",
        "flat_tokens = [token for sublist in tokens for token in sublist]"
      ],
      "metadata": {
        "id": "p-xogTXQlPYh"
      },
      "execution_count": 18,
      "outputs": []
    },
    {
      "cell_type": "code",
      "source": [
        "flat_tokens[:10]"
      ],
      "metadata": {
        "colab": {
          "base_uri": "https://localhost:8080/"
        },
        "id": "zEwWMzaYu442",
        "outputId": "3f8dc6d2-ac6f-4e76-8788-143d51ba5c80"
      },
      "execution_count": 19,
      "outputs": [
        {
          "output_type": "execute_result",
          "data": {
            "text/plain": [
              "['one',\n",
              " 'of',\n",
              " 'the',\n",
              " 'other',\n",
              " 'reviewers',\n",
              " 'has',\n",
              " 'mentioned',\n",
              " 'that',\n",
              " 'after',\n",
              " 'watching']"
            ]
          },
          "metadata": {},
          "execution_count": 19
        }
      ]
    },
    {
      "cell_type": "code",
      "execution_count": 20,
      "metadata": {
        "colab": {
          "base_uri": "https://localhost:8080/"
        },
        "id": "jOaU6DpZWduN",
        "outputId": "55962cb4-e5d0-42a2-c5b9-9bc522c63b3e"
      },
      "outputs": [
        {
          "output_type": "execute_result",
          "data": {
            "text/plain": [
              "97035"
            ]
          },
          "metadata": {},
          "execution_count": 20
        }
      ],
      "source": [
        "\n",
        "vocab = {'<pad>':0,'<unkn>':1 }\n",
        "for word in Counter(flat_tokens).keys():\n",
        "  if word not in vocab:\n",
        "    vocab[word] = len(vocab)\n",
        "\n",
        "len(vocab)"
      ]
    },
    {
      "cell_type": "markdown",
      "source": [
        "**NOTE**\n",
        "\n",
        "* This above steps we were doing to make a vocabulary\n",
        "* now we will make a sentences list tokens and convert those into numerical based on vocab"
      ],
      "metadata": {
        "id": "hWF0XBkMl_jY"
      }
    },
    {
      "cell_type": "code",
      "execution_count": 21,
      "metadata": {
        "id": "UwLe0J4sXK6g"
      },
      "outputs": [],
      "source": [
        "# i want to make a numerical list from tokens\n",
        "numerical_sentences = []\n",
        "def word_to_index(tokens, vocab):\n",
        "    numerical_sentences = []\n",
        "    for sentence in tokens:\n",
        "        numerical_sentence = []\n",
        "        for word in sentence:\n",
        "            if word in vocab:\n",
        "                numerical_sentence.append(vocab[word])\n",
        "            else:\n",
        "                numerical_sentence.append(vocab['<unkn>'])\n",
        "        numerical_sentences.append(numerical_sentence)  # ← outside the inner loop\n",
        "    return numerical_sentences\n",
        "\n",
        "numerical_sentences = word_to_index(tokens, vocab)"
      ]
    },
    {
      "cell_type": "code",
      "source": [
        "# padding the numerical sentences\n",
        "\n",
        "from torch.nn.utils.rnn import pad_sequence\n",
        "# Convert to tensors\n",
        "tensor_sentences = [torch.tensor(s) for s in numerical_sentences]\n",
        "\n",
        "# Pad\n",
        "padded = pad_sequence(tensor_sentences, batch_first=True, padding_value=0, )\n",
        "padded = padded[:, :300]"
      ],
      "metadata": {
        "id": "cUxDIIw36ruu"
      },
      "execution_count": 70,
      "outputs": []
    },
    {
      "cell_type": "code",
      "source": [
        "padded.shape"
      ],
      "metadata": {
        "colab": {
          "base_uri": "https://localhost:8080/"
        },
        "id": "tr6aB9NTirdH",
        "outputId": "a68bc97d-481e-498d-f2c1-7465e71b87b1"
      },
      "execution_count": 56,
      "outputs": [
        {
          "output_type": "execute_result",
          "data": {
            "text/plain": [
              "torch.Size([50000, 100])"
            ]
          },
          "metadata": {},
          "execution_count": 56
        }
      ]
    },
    {
      "cell_type": "code",
      "source": [
        "len(padded)"
      ],
      "metadata": {
        "colab": {
          "base_uri": "https://localhost:8080/"
        },
        "id": "201y836WBMM8",
        "outputId": "f4866b08-41a0-459c-d56f-2da476aade28"
      },
      "execution_count": 23,
      "outputs": [
        {
          "output_type": "execute_result",
          "data": {
            "text/plain": [
              "50000"
            ]
          },
          "metadata": {},
          "execution_count": 23
        }
      ]
    },
    {
      "cell_type": "code",
      "source": [
        "y_labels = torch.tensor(y, dtype =  torch.long)"
      ],
      "metadata": {
        "id": "xlFAp5Xxnm9M"
      },
      "execution_count": 57,
      "outputs": []
    },
    {
      "cell_type": "code",
      "source": [
        "x_train, x_test, y_train, y_test = train_test_split(padded, y_labels, test_size=0.2, random_state=42)"
      ],
      "metadata": {
        "id": "TrINpE33BVPm"
      },
      "execution_count": 58,
      "outputs": []
    },
    {
      "cell_type": "code",
      "source": [
        "train_data = TensorDataset(x_train, y_train)\n",
        "test_data = TensorDataset(x_test, y_test)"
      ],
      "metadata": {
        "id": "N8ieIvwhhlYo"
      },
      "execution_count": 59,
      "outputs": []
    },
    {
      "cell_type": "code",
      "source": [
        "train_data_loader = DataLoader(train_data, batch_size=32, shuffle=True)\n",
        "test_data_loader = DataLoader(test_data, batch_size=32, shuffle=True)"
      ],
      "metadata": {
        "id": "yFb7-6eDojBM"
      },
      "execution_count": 60,
      "outputs": []
    },
    {
      "cell_type": "markdown",
      "source": [
        "**Next Step**\n",
        "\n",
        "* Data Preprocessing done now we will make the model"
      ],
      "metadata": {
        "id": "BH4V_toUpPcY"
      }
    },
    {
      "cell_type": "code",
      "source": [
        "# Designing model\n",
        "\n",
        "class SentimentClassifier(nn.Module):\n",
        "  def __init__(self, vocab_size, embedding_dim, hidden_dim, output_dim,padding_idx):\n",
        "    super().__init__()\n",
        "\n",
        "    self.embedding = nn.Embedding(vocab_size, embedding_dim,padding_idx= padding_idx )\n",
        "    self.lstm = nn.LSTM(embedding_dim, hidden_dim, batch_first=True)\n",
        "\n",
        "    self.fc2 = nn.Linear(hidden_dim, output_dim)\n",
        "\n",
        "  def forward(self, x):\n",
        "    embedded = self.embedding(x)\n",
        "    lstm_out,(hidden, _) = self.lstm(embedded)\n",
        "    output = F.dropout(self.fc2(hidden[-1]), 0.3)\n",
        "    # output = self.fc2(hidden.squeeze(0))\n",
        "\n",
        "    return output\n"
      ],
      "metadata": {
        "id": "AoHiLFixpKNp"
      },
      "execution_count": 71,
      "outputs": []
    },
    {
      "cell_type": "code",
      "source": [
        "device = torch.device('cuda' if torch.cuda.is_available() else 'cpu')\n",
        "print(device)"
      ],
      "metadata": {
        "colab": {
          "base_uri": "https://localhost:8080/"
        },
        "id": "rT1lSG45-Ju9",
        "outputId": "aaa07dcd-48fa-4f5b-945c-4a8edac21388"
      },
      "execution_count": 62,
      "outputs": [
        {
          "output_type": "stream",
          "name": "stdout",
          "text": [
            "cuda\n"
          ]
        }
      ]
    },
    {
      "cell_type": "code",
      "source": [
        "\n",
        "model = SentimentClassifier(len(vocab), 100, 512, 2, vocab['<pad>']).to(device)\n",
        "\n",
        "epoch = 15\n",
        "leaarning_rate = 0.001\n",
        "\n",
        "loss_function = nn.CrossEntropyLoss()\n",
        "optimizer = optim.Adam(model.parameters(), lr=leaarning_rate)"
      ],
      "metadata": {
        "id": "Orv1bnPT8PR3"
      },
      "execution_count": 75,
      "outputs": []
    },
    {
      "cell_type": "code",
      "source": [
        "# training loop\n",
        "\n",
        "for epoch in range(epoch):\n",
        "  total_loss = 0\n",
        "  for review , label in train_data_loader:\n",
        "    review, label = review.to(device), label.to(device)\n",
        "    optimizer.zero_grad()\n",
        "    output = model(review)\n",
        "\n",
        "    loss = loss_function(output, label)\n",
        "    loss.backward()\n",
        "    optimizer.step()\n",
        "\n",
        "    total_loss += loss.item()\n",
        "\n",
        "  print(f\"epoch: {epoch+1} loss: {total_loss/len(train_data_loader)}\")"
      ],
      "metadata": {
        "colab": {
          "base_uri": "https://localhost:8080/"
        },
        "id": "3XZdzYx390In",
        "outputId": "c0de628a-1683-4cf5-f958-761be147940b"
      },
      "execution_count": 76,
      "outputs": [
        {
          "output_type": "stream",
          "name": "stdout",
          "text": [
            "epoch: 1 loss: 0.6998803044319153\n",
            "epoch: 2 loss: 0.6160419598817826\n",
            "epoch: 3 loss: 0.4316791366815567\n",
            "epoch: 4 loss: 0.34296802608966825\n",
            "epoch: 5 loss: 0.27968388097286223\n",
            "epoch: 6 loss: 0.22327392486184836\n",
            "epoch: 7 loss: 0.1671778010159731\n",
            "epoch: 8 loss: 0.12871530753485858\n",
            "epoch: 9 loss: 0.10318958973810077\n",
            "epoch: 10 loss: 0.08905411238113883\n",
            "epoch: 11 loss: 0.0793774754159851\n",
            "epoch: 12 loss: 0.07971142908786423\n",
            "epoch: 13 loss: 0.08016838446902694\n",
            "epoch: 14 loss: 0.0726763469747384\n",
            "epoch: 15 loss: 0.06991481758407317\n"
          ]
        }
      ]
    },
    {
      "cell_type": "code",
      "source": [
        "model.eval()\n",
        "\n",
        "accuracy = 0\n",
        "total = 0\n",
        "with torch.no_grad():\n",
        "\n",
        "  for review, label in test_data_loader:\n",
        "    review, label = review.to(device), label.to(device)\n",
        "    output = model(review)\n",
        "    _, predicted = torch.max(output.data, 1)\n",
        "    total += label.size(0)\n",
        "    accuracy += (predicted == label).sum().item()\n",
        "\n",
        "  print(f\"Accuracy: {100 * accuracy / total}%\")"
      ],
      "metadata": {
        "colab": {
          "base_uri": "https://localhost:8080/"
        },
        "id": "urqQEHEwWPMJ",
        "outputId": "635929ea-1377-4cad-ad01-68f187e5b52f"
      },
      "execution_count": 77,
      "outputs": [
        {
          "output_type": "stream",
          "name": "stdout",
          "text": [
            "Accuracy: 79.02%\n"
          ]
        }
      ]
    },
    {
      "cell_type": "code",
      "source": [
        "\n",
        "\n",
        "def preprocess_review(review, tokenizer, vocab, max_len=300):\n",
        "    # Tokenize (split to words)\n",
        "    tokens = tokenizer(review.lower())  # or use your own tokenizer logic\n",
        "\n",
        "    # Convert to indices\n",
        "    indices = [vocab.get(token, vocab['<unkn>']) for token in tokens]\n",
        "\n",
        "    # Convert to tensor\n",
        "    tensor = torch.tensor(indices)\n",
        "\n",
        "    # Pad or truncate to max_len\n",
        "    if len(tensor) > max_len:\n",
        "        tensor = tensor[:max_len]\n",
        "    else:\n",
        "        padding = torch.full((max_len - len(tensor),), vocab['<pad>'])\n",
        "        tensor = torch.cat([tensor, padding])\n",
        "\n",
        "    return tensor.unsqueeze(0)  # Add batch dimension\n"
      ],
      "metadata": {
        "id": "Pdwi386FYuBa"
      },
      "execution_count": 95,
      "outputs": []
    },
    {
      "cell_type": "code",
      "source": [
        "def predict_sentiment(review, model, tokenizer, vocab, max_len=300):\n",
        "    model.eval()\n",
        "    with torch.no_grad():\n",
        "        input_tensor = preprocess_review(review, tokenizer, vocab, max_len).to(device)\n",
        "        output = model(input_tensor)\n",
        "        probs = torch.softmax(output, dim=1)\n",
        "        predicted = torch.argmax(probs, dim=1).item()\n",
        "        confidence = probs[0][predicted].item()\n",
        "        sentiment = 'Positive' if predicted == 1 else 'Negative'\n",
        "        return sentiment, confidence\n"
      ],
      "metadata": {
        "id": "nxsqSyKDrS1v"
      },
      "execution_count": 96,
      "outputs": []
    },
    {
      "cell_type": "code",
      "source": [
        "review_text = \"The movie was good!\"\n",
        "sentiment, confidence = predict_sentiment(review_text, model, word_tokenize, vocab)\n",
        "print(f\"Sentiment: {sentiment} (Confidence: {confidence:.2f})\")\n"
      ],
      "metadata": {
        "colab": {
          "base_uri": "https://localhost:8080/"
        },
        "id": "8oKCSm_Vrn0D",
        "outputId": "2f964df8-d165-4246-eee6-42ffea1fc1d5"
      },
      "execution_count": 105,
      "outputs": [
        {
          "output_type": "stream",
          "name": "stdout",
          "text": [
            "Sentiment: Negative (Confidence: 0.61)\n"
          ]
        }
      ]
    },
    {
      "cell_type": "code",
      "source": [],
      "metadata": {
        "id": "k1uJhhZ5rpF5"
      },
      "execution_count": null,
      "outputs": []
    }
  ],
  "metadata": {
    "colab": {
      "gpuType": "T4",
      "provenance": [],
      "authorship_tag": "ABX9TyMCJoqFcoote9vBWFPcuVq8",
      "include_colab_link": true
    },
    "kernelspec": {
      "display_name": "Python 3",
      "name": "python3"
    },
    "language_info": {
      "name": "python"
    },
    "accelerator": "GPU"
  },
  "nbformat": 4,
  "nbformat_minor": 0
}