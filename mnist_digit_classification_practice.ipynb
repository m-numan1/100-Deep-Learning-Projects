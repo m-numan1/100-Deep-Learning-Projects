{
  "nbformat": 4,
  "nbformat_minor": 0,
  "metadata": {
    "colab": {
      "provenance": [],
      "gpuType": "T4",
      "authorship_tag": "ABX9TyM/n8YagOMxIhVrEeYDUq5x",
      "include_colab_link": true
    },
    "kernelspec": {
      "name": "python3",
      "display_name": "Python 3"
    },
    "language_info": {
      "name": "python"
    },
    "accelerator": "GPU"
  },
  "cells": [
    {
      "cell_type": "markdown",
      "metadata": {
        "id": "view-in-github",
        "colab_type": "text"
      },
      "source": [
        "<a href=\"https://colab.research.google.com/github/m-numan1/100-Deep-Learning-Projects/blob/main/mnist_digit_classification_practice.ipynb\" target=\"_parent\"><img src=\"https://colab.research.google.com/assets/colab-badge.svg\" alt=\"Open In Colab\"/></a>"
      ]
    },
    {
      "cell_type": "markdown",
      "source": [
        "## Creating Mnist Digit Classification Model in Pytorch\n",
        "\n",
        "**Steps TO Follow**\n",
        " * We will use mnist dataset from torch vision\n",
        " * Create DataLoader\n",
        " * Model Class\n",
        " * Training Loop\n",
        " * Evaluation Loop"
      ],
      "metadata": {
        "id": "gJV6z-UNBAfB"
      }
    },
    {
      "cell_type": "code",
      "execution_count": 2,
      "metadata": {
        "id": "uL1mGeCr_MJd"
      },
      "outputs": [],
      "source": [
        "import torch\n",
        "import torch.nn as nn\n",
        "import torchvision\n",
        "from torch.utils.data import DataLoader\n",
        "import torch.optim as optim\n",
        "import torch.nn.functional as F"
      ]
    },
    {
      "cell_type": "code",
      "source": [
        "from torchvision.datasets import MNIST\n",
        "import torchvision.transforms as transforms"
      ],
      "metadata": {
        "id": "fDC-lElVBP_a"
      },
      "execution_count": 3,
      "outputs": []
    },
    {
      "cell_type": "code",
      "source": [
        "train_data = MNIST(root = 'data', download = True, train= True,transform = transforms.ToTensor())\n",
        "test_data = MNIST(root = 'data', download = True, train= False,transform = transforms.ToTensor())"
      ],
      "metadata": {
        "id": "8GcmltLGCmBr",
        "colab": {
          "base_uri": "https://localhost:8080/"
        },
        "outputId": "b42c02ae-24ac-499d-b96b-94674f80405b"
      },
      "execution_count": 4,
      "outputs": [
        {
          "output_type": "stream",
          "name": "stderr",
          "text": [
            "100%|██████████| 9.91M/9.91M [00:00<00:00, 11.5MB/s]\n",
            "100%|██████████| 28.9k/28.9k [00:00<00:00, 343kB/s]\n",
            "100%|██████████| 1.65M/1.65M [00:00<00:00, 3.14MB/s]\n",
            "100%|██████████| 4.54k/4.54k [00:00<00:00, 6.22MB/s]\n"
          ]
        }
      ]
    },
    {
      "cell_type": "code",
      "source": [
        "train_data"
      ],
      "metadata": {
        "colab": {
          "base_uri": "https://localhost:8080/"
        },
        "id": "y505S-yLDCwK",
        "outputId": "61eedfaa-8c44-4d56-d024-e9f608e2d610"
      },
      "execution_count": 5,
      "outputs": [
        {
          "output_type": "execute_result",
          "data": {
            "text/plain": [
              "Dataset MNIST\n",
              "    Number of datapoints: 60000\n",
              "    Root location: data\n",
              "    Split: Train\n",
              "    StandardTransform\n",
              "Transform: ToTensor()"
            ]
          },
          "metadata": {},
          "execution_count": 5
        }
      ]
    },
    {
      "cell_type": "code",
      "source": [
        "# DataLoader is a class object that provide data in batches\n",
        "train_loader = DataLoader(train_data , batch_size = 100, shuffle = True)\n",
        "test_loader = DataLoader(test_data , batch_size = 100 , shuffle = True)"
      ],
      "metadata": {
        "id": "dsEY5-5xDEih"
      },
      "execution_count": 6,
      "outputs": []
    },
    {
      "cell_type": "code",
      "source": [
        "# Creating neuaral NetWork\n",
        "class CNNModel(nn.Module):\n",
        "  def __init__(self):\n",
        "    super().__init__()\n",
        "    self.con1 = nn.Conv2d(1 , 32, kernel_size = 3)\n",
        "    self.con2 = nn.Conv2d(32, 64 , kernel_size = 3)\n",
        "    self.pool = nn.MaxPool2d(2, 2)  # Output: 12x12\n",
        "    self.fc1 = nn.Linear(64 * 12 * 12, 128)\n",
        "    self.fc2 = nn.Linear(128, 10)  # 10 classes\n",
        "  def forward(self, x):\n",
        "    x = F.relu(self.con1(x))\n",
        "    x= F.relu(self.con2(x))\n",
        "    x = self.pool(x)           # Max pooling to downsample\n",
        "    x = x.view(x.size(0), -1)  # Flatten the tensor (batch_size, 9216)\n",
        "    x = F.relu(self.fc1(x))    # Fully connected layer 1 + ReLU\n",
        "    x = self.fc2(x)            # Final layer → class logits\n",
        "    return x\n"
      ],
      "metadata": {
        "id": "eQ4ThAeWJ1u2"
      },
      "execution_count": 7,
      "outputs": []
    },
    {
      "cell_type": "code",
      "source": [
        "device = torch.device('cuda' if torch.cuda.is_available() else 'cpu')\n",
        "print(device)"
      ],
      "metadata": {
        "colab": {
          "base_uri": "https://localhost:8080/"
        },
        "id": "IT_XQoCFrtRc",
        "outputId": "669eaa8b-9f00-4294-e7da-f7fcdd7cfb0e"
      },
      "execution_count": 8,
      "outputs": [
        {
          "output_type": "stream",
          "name": "stdout",
          "text": [
            "cuda\n"
          ]
        }
      ]
    },
    {
      "cell_type": "code",
      "source": [
        "\n",
        "\n",
        "epochs = 100\n",
        "learning_rate = 0.01\n",
        "\n",
        "model = CNNModel()\n",
        "model.to(device)\n",
        "optimizer = optim.Adam(model.parameters() , lr = learning_rate)\n",
        "loss_fn = nn.CrossEntropyLoss()"
      ],
      "metadata": {
        "id": "2f8cfTZ5m7_o"
      },
      "execution_count": 9,
      "outputs": []
    },
    {
      "cell_type": "code",
      "source": [
        "# Training Loop\n",
        "\n",
        "for epoch in range(epochs):\n",
        "  total_loss = 0\n",
        "  for images , labels in train_loader:\n",
        "    batch_image, batch_label = images.to(device), labels.to(device)\n",
        "    optimizer.zero_grad()\n",
        "\n",
        "    output = model(batch_image)\n",
        "\n",
        "    loss = loss_fn(output , batch_label)\n",
        "\n",
        "    loss.backward()\n",
        "\n",
        "    optimizer.step()\n",
        "\n",
        "    total_loss =total_loss + loss.item()\n",
        "  print(total_loss)\n"
      ],
      "metadata": {
        "colab": {
          "base_uri": "https://localhost:8080/"
        },
        "id": "Go7ZOvCDn3a9",
        "outputId": "4f0e5677-ecfb-4660-aa2e-c3cda8645cb1"
      },
      "execution_count": 10,
      "outputs": [
        {
          "output_type": "stream",
          "name": "stdout",
          "text": [
            "88.92028887989\n",
            "33.16794224688783\n",
            "25.448408897733316\n",
            "22.898608969662746\n",
            "18.074061638108105\n",
            "16.56116285065218\n",
            "15.958765298228172\n",
            "14.465392955752577\n",
            "16.412817653766297\n",
            "15.23131720537026\n",
            "11.453242300675925\n",
            "14.27321280721253\n",
            "14.142188384785413\n",
            "14.445294015866693\n",
            "11.218582009533314\n",
            "15.463787428337334\n",
            "14.989468513555682\n",
            "12.259249762216646\n",
            "8.178553187011676\n",
            "21.793528039165377\n",
            "12.522006840114921\n",
            "7.56896191191662\n",
            "13.103324769778927\n",
            "16.195013135256907\n",
            "24.936608386789498\n",
            "13.651702555504395\n",
            "13.615083948790655\n",
            "12.50936560850665\n",
            "14.112819064729676\n",
            "19.875236971530907\n",
            "8.918786404142292\n",
            "6.3075135918125955\n",
            "24.50510115747672\n",
            "22.63818433773539\n",
            "12.751817228934126\n",
            "8.233592778079208\n",
            "13.82398804574641\n",
            "20.525840816042056\n",
            "14.540587938855829\n",
            "18.251060616840103\n",
            "17.319145550295723\n",
            "16.063207156669634\n",
            "14.931985278571565\n",
            "18.26145375530914\n",
            "20.66341079027237\n",
            "12.927935606685692\n",
            "27.502866881371972\n",
            "16.639178339656993\n",
            "14.197382175625622\n",
            "18.796900807737575\n",
            "28.359117039588593\n",
            "17.394942263443397\n",
            "14.449978100696189\n",
            "16.827234720899952\n",
            "14.312607879533493\n",
            "22.784778703340272\n",
            "28.414995920133208\n",
            "15.606741081635208\n",
            "15.440912588893752\n",
            "29.542111996281044\n",
            "18.179720818461035\n",
            "33.22586304546028\n",
            "22.020398236946182\n",
            "19.885450100027505\n",
            "14.22516757277653\n",
            "29.78349280675592\n",
            "38.80440749639435\n",
            "45.993613900972946\n",
            "26.7979857442147\n",
            "8.729472732569535\n",
            "31.639065240577917\n",
            "52.75084157869635\n",
            "11.608196229615666\n",
            "25.627197753009476\n",
            "28.706803600323273\n",
            "25.659956168196956\n",
            "29.69234667274433\n",
            "32.83975661357189\n",
            "44.58790451080892\n",
            "28.132060839204232\n",
            "24.363083432602735\n",
            "24.90938225662625\n",
            "57.52790758144067\n",
            "21.083005042890555\n",
            "32.71280329831694\n",
            "19.178032279673214\n",
            "20.12230807408125\n",
            "41.10180738727105\n",
            "41.25138187234108\n",
            "32.90057122564484\n",
            "37.88308202347473\n",
            "42.300246670394955\n",
            "38.045683633472045\n",
            "52.420645400996214\n",
            "31.777320657215483\n",
            "24.246707600753187\n",
            "20.865991615313217\n",
            "31.529710917929393\n",
            "14.983903718319073\n",
            "63.04663407235896\n"
          ]
        }
      ]
    },
    {
      "cell_type": "code",
      "source": [
        "model.eval()"
      ],
      "metadata": {
        "colab": {
          "base_uri": "https://localhost:8080/"
        },
        "id": "vbluI4gQsCth",
        "outputId": "0ae90a05-deeb-43bc-9f26-61fe02102a72"
      },
      "execution_count": 11,
      "outputs": [
        {
          "output_type": "execute_result",
          "data": {
            "text/plain": [
              "CNNModel(\n",
              "  (con1): Conv2d(1, 32, kernel_size=(3, 3), stride=(1, 1))\n",
              "  (con2): Conv2d(32, 64, kernel_size=(3, 3), stride=(1, 1))\n",
              "  (pool): MaxPool2d(kernel_size=2, stride=2, padding=0, dilation=1, ceil_mode=False)\n",
              "  (fc1): Linear(in_features=9216, out_features=128, bias=True)\n",
              "  (fc2): Linear(in_features=128, out_features=10, bias=True)\n",
              ")"
            ]
          },
          "metadata": {},
          "execution_count": 11
        }
      ]
    },
    {
      "cell_type": "code",
      "source": [
        "# Evaluating\n",
        "\n",
        "with torch.no_grad():\n",
        "\n",
        "  correct = 0\n",
        "  total = 0\n",
        "  for image, label in test_loader:\n",
        "\n",
        "    image , label = image.to(device) , label.to(device)\n",
        "\n",
        "    output = model(image)\n",
        "\n",
        "    _, predicted = torch.max(output.data, 1)\n",
        "\n",
        "    total += label.size(0)\n",
        "\n",
        "    correct += (predicted == label).sum().item()\n",
        "\n",
        "  print('Accuracy of the network on the 10000 test images: %d %%' % (100 * correct / total))\n"
      ],
      "metadata": {
        "colab": {
          "base_uri": "https://localhost:8080/"
        },
        "id": "F5vhAFJF7wvH",
        "outputId": "903a4a41-8362-4651-986e-e01413c631dc"
      },
      "execution_count": 13,
      "outputs": [
        {
          "output_type": "stream",
          "name": "stdout",
          "text": [
            "Accuracy of the network on the 10000 test images: 98 %\n"
          ]
        }
      ]
    },
    {
      "cell_type": "code",
      "source": [
        "from sklearn.metrics import confusion_matrix, classification_report\n",
        "import seaborn as sns\n",
        "import matplotlib.pyplot as plt\n",
        "\n",
        "# Collect all true and predicted labels\n",
        "all_preds = []\n",
        "all_labels = []\n",
        "\n",
        "model.eval()\n",
        "with torch.no_grad():\n",
        "    for images, labels in test_loader:\n",
        "        images, labels = images.to(device), labels.to(device)\n",
        "        outputs = model(images)\n",
        "        _, predicted = torch.max(outputs, 1)\n",
        "        all_preds.extend(predicted.cpu().numpy())\n",
        "        all_labels.extend(labels.cpu().numpy())\n",
        "\n",
        "# Confusion matrix\n",
        "cm = confusion_matrix(all_labels, all_preds)\n",
        "\n",
        "plt.figure(figsize=(10, 8))\n",
        "sns.heatmap(cm, annot=True, fmt='d', cmap='Blues', xticklabels=range(10), yticklabels=range(10))\n",
        "plt.xlabel('Predicted')\n",
        "plt.ylabel('True')\n",
        "plt.title('Confusion Matrix')\n",
        "plt.show()\n"
      ],
      "metadata": {
        "colab": {
          "base_uri": "https://localhost:8080/",
          "height": 630
        },
        "id": "D1vBglcgAjnv",
        "outputId": "afb53dec-0a6b-4089-b99e-593cc1f665d4"
      },
      "execution_count": 14,
      "outputs": [
        {
          "output_type": "display_data",
          "data": {
            "text/plain": [
              "<Figure size 1000x800 with 2 Axes>"
            ],
            "image/png": "[encoded data removed]"
          },
          "metadata": {}
        }
      ]
    },
    {
      "cell_type": "code",
      "source": [],
      "metadata": {
        "id": "ymdVICqwBYUA"
      },
      "execution_count": null,
      "outputs": []
    }
  ]
}